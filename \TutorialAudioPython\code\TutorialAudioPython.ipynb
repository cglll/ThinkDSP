{
  "nbformat": 4,
  "nbformat_minor": 0,
  "metadata": {
    "colab": {
      "name": "TutorialAudioPython.ipynb",
      "provenance": [],
      "authorship_tag": "ABX9TyNB5S52XixbHqRe6yIVh8oL",
      "include_colab_link": true
    },
    "kernelspec": {
      "display_name": "Python 3",
      "name": "python3"
    },
    "language_info": {
      "name": "python"
    }
  },
  "cells": [
    {
      "cell_type": "markdown",
      "metadata": {
        "id": "view-in-github",
        "colab_type": "text"
      },
      "source": [
        "<a href=\"https://colab.research.google.com/github/cglll/ThinkDSP/blob/master/%5CTutorialAudioPython%5Ccode%5CTutorialAudioPython.ipynb\" target=\"_parent\"><img src=\"https://colab.research.google.com/assets/colab-badge.svg\" alt=\"Open In Colab\"/></a>"
      ]
    },
    {
      "cell_type": "markdown",
      "metadata": {
        "id": "IhGPOIZmNQq5"
      },
      "source": [
        "Tutorial de Audio en Python"
      ]
    },
    {
      "cell_type": "markdown",
      "metadata": {
        "id": "gVkfREVAcbIe"
      },
      "source": [
        "Clonar repositorio"
      ]
    },
    {
      "cell_type": "code",
      "metadata": {
        "id": "0d3IAw7fcZAw"
      },
      "source": [
        ""
      ],
      "execution_count": null,
      "outputs": []
    },
    {
      "cell_type": "code",
      "metadata": {
        "id": "_d2rzw6gcPHZ"
      },
      "source": [
        "# Get thinkdsp.py\n",
        "\n",
        "!git clone https://github.com/cglll/ThinkDSP"
      ],
      "execution_count": null,
      "outputs": []
    },
    {
      "cell_type": "markdown",
      "metadata": {
        "id": "-PKXiaL_NPoL"
      },
      "source": [
        "Importar librerias"
      ]
    },
    {
      "cell_type": "code",
      "metadata": {
        "colab": {
          "background_save": true
        },
        "id": "p1MDr4j-Wtb-"
      },
      "source": [
        "import numpy as np\n",
        "import matplotlib.pyplot as plt\n",
        "from scipy.io.wavfile import read, write\n",
        "from IPython.display import Audio\n",
        "from numpy.fft import fft, ifft\n",
        "%matplotlib inline"
      ],
      "execution_count": null,
      "outputs": []
    },
    {
      "cell_type": "code",
      "metadata": {
        "id": "tdIPYT9NNFTR"
      },
      "source": [
        ""
      ],
      "execution_count": null,
      "outputs": []
    }
  ]
}